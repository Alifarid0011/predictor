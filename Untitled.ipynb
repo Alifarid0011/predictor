{
 "cells": [
  {
   "cell_type": "code",
   "execution_count": 17,
   "id": "125feafa",
   "metadata": {},
   "outputs": [
    {
     "name": "stdout",
     "output_type": "stream",
     "text": [
      "[[0.84482601 0.06563271 0.08954128]]\n"
     ]
    }
   ],
   "source": [
    "from joblib import dump, load\n",
    "import json\n",
    "\n",
    "\n",
    "\n",
    "lr_classifier = load('exportedModels/lr_classifier.model')\n",
    "data=lr_classifier.predict_proba([[8, 164, 4, 5, 12,12, 4, 5, 2, 2]])\n",
    "print(str((data)))"
   ]
  },
  {
   "cell_type": "code",
   "execution_count": 15,
   "id": "658dcd53",
   "metadata": {},
   "outputs": [
    {
     "name": "stdout",
     "output_type": "stream",
     "text": [
      "[[0.84482601 0.06563271 0.08954128]]\n"
     ]
    }
   ],
   "source": []
  },
  {
   "cell_type": "code",
   "execution_count": null,
   "id": "a9c7ae95",
   "metadata": {},
   "outputs": [],
   "source": []
  }
 ],
 "metadata": {
  "kernelspec": {
   "display_name": "Python 3",
   "language": "python",
   "name": "python3"
  },
  "language_info": {
   "codemirror_mode": {
    "name": "ipython",
    "version": 3
   },
   "file_extension": ".py",
   "mimetype": "text/x-python",
   "name": "python",
   "nbconvert_exporter": "python",
   "pygments_lexer": "ipython3",
   "version": "3.8.8"
  }
 },
 "nbformat": 4,
 "nbformat_minor": 5
}
